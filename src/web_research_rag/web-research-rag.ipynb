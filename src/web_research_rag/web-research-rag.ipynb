{
 "cells": [
  {
   "cell_type": "code",
   "execution_count": null,
   "metadata": {},
   "outputs": [],
   "source": [
    "from dotenv import load_dotenv\n",
    "import yaml\n",
    "from crewai import Agent, Task, Crew, LLM\n",
    "from crewai_tools import SerperDevTool, ScrapeWebsiteTool, WebsiteSearchTool\n",
    "from crewai.tools import tool\n",
    "from IPython.display import display, Markdown\n",
    "import requests\n",
    "\n",
    "load_dotenv()"
   ]
  },
  {
   "cell_type": "code",
   "execution_count": 2,
   "metadata": {},
   "outputs": [],
   "source": [
    "# Define file paths for YAML configurations\n",
    "files = {\n",
    "    'agents': 'config/agents.yaml',\n",
    "    'tasks': 'config/tasks.yaml'\n",
    "}\n",
    "\n",
    "# Load configurations from YAML files\n",
    "configs = {}\n",
    "for config_type, file_path in files.items():\n",
    "    with open(file_path, 'r') as file:\n",
    "        configs[config_type] = yaml.safe_load(file)\n",
    "\n",
    "# Assign loaded configurations to specific variables\n",
    "agents_config = configs['agents']\n",
    "tasks_config = configs['tasks']"
   ]
  },
  {
   "cell_type": "code",
   "execution_count": 3,
   "metadata": {},
   "outputs": [],
   "source": [
    "synth_llm_small = LLM(\n",
    "    model=\"anthropic/claude-3-5-haiku-20241022\",\n",
    "    temperature=0.2,\n",
    ")\n",
    "synth_llm_large = LLM(\n",
    "    model=\"anthropic/claude-3-5-haiku-20241022\",\n",
    "    temperature=0.7\n",
    ")"
   ]
  },
  {
   "cell_type": "code",
   "execution_count": 4,
   "metadata": {},
   "outputs": [],
   "source": [
    "finhealth_sales_analyst_agent = Agent(\n",
    "    config=agents_config['finhealth_sales_analyst'],\n",
    "    tools=[SerperDevTool(), ScrapeWebsiteTool()],\n",
    "    llm=synth_llm_small,\n",
    "    max_rpm=5,\n",
    "    respect_context_window=True\n",
    ")\n",
    "chief_sales_analyst_agent = Agent(\n",
    "    config=agents_config['chief_sales_analyst'],\n",
    "    llm=synth_llm_large,\n",
    "    max_rpm=25,\n",
    "    respect_context_window=True\n",
    ")"
   ]
  },
  {
   "cell_type": "code",
   "execution_count": 5,
   "metadata": {},
   "outputs": [],
   "source": [
    "research_tasks = [\n",
    "    Task(config=tasks_config[tc], agent=finhealth_sales_analyst_agent, async_execution=True) \\\n",
    "    for tc in list(tasks_config.keys()) \\\n",
    "    if tc.startswith('finhealth_research')\n",
    "]\n",
    "\n",
    "finhealth_report_task = Task(\n",
    "   config=tasks_config['finhealth_report_task'],\n",
    "    agent=chief_sales_analyst_agent,\n",
    "    context=research_tasks\n",
    ")"
   ]
  },
  {
   "cell_type": "code",
   "execution_count": 6,
   "metadata": {},
   "outputs": [],
   "source": [
    "finhealth_crew = Crew(\n",
    "    agents=[finhealth_sales_analyst_agent],\n",
    "    tasks=[\n",
    "        *research_tasks,\n",
    "        finhealth_report_task\n",
    "    ],\n",
    "    verbose=True,\n",
    "    max_rpm=25,\n",
    "    full_output=True\n",
    ")"
   ]
  },
  {
   "cell_type": "code",
   "execution_count": 7,
   "metadata": {},
   "outputs": [],
   "source": [
    "company = 'Virginia Credit Union'"
   ]
  },
  {
   "cell_type": "code",
   "execution_count": null,
   "metadata": {},
   "outputs": [],
   "source": [
    "\n",
    "result = finhealth_crew.kickoff(inputs={\n",
    "  'Company': company\n",
    "})"
   ]
  },
  {
   "cell_type": "code",
   "execution_count": 9,
   "metadata": {},
   "outputs": [],
   "source": [
    "with open('output/%s.md'%company, 'w') as file:\n",
    "#    file.write(str(result))\n",
    "    for _task in research_tasks:\n",
    "        file.write(\"\\n\\n\\n-------------------------------------------------\\n\\n\\n\")     \n",
    "        file.write(_task.output.raw)"
   ]
  },
  {
   "cell_type": "code",
   "execution_count": null,
   "metadata": {},
   "outputs": [],
   "source": []
  }
 ],
 "metadata": {
  "kernelspec": {
   "display_name": ".venv",
   "language": "python",
   "name": "python3"
  },
  "language_info": {
   "codemirror_mode": {
    "name": "ipython",
    "version": 3
   },
   "file_extension": ".py",
   "mimetype": "text/x-python",
   "name": "python",
   "nbconvert_exporter": "python",
   "pygments_lexer": "ipython3",
   "version": "3.12.7"
  }
 },
 "nbformat": 4,
 "nbformat_minor": 2
}
